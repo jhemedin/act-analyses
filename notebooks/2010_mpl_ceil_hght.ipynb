{
 "cells": [
  {
   "cell_type": "code",
   "execution_count": null,
   "metadata": {},
   "outputs": [],
   "source": [
    "import warnings\n",
    "warnings.filterwarnings('ignore')\n",
    "import numpy as np\n",
    "import matplotlib.pyplot as plt\n",
    "import act\n",
    "import glob\n",
    "import matplotlib as mpl\n",
    "import pyart"
   ]
  },
  {
   "cell_type": "code",
   "execution_count": null,
   "metadata": {},
   "outputs": [],
   "source": [
    "mpl_10 = glob.glob('/home/jhemedinger/dev_act/act-analyses/data/sgp30smplcmask1zwangC1.c1/sgp30smplcmask1zwangC1.c1.2010*')\n",
    "ceil_10 = glob.glob('/home/jhemedinger/dev_act/act-analyses/data/sgpceilC1.b1.2010/*')\n",
    "mpl_10.sort()\n",
    "ceil_10.sort()"
   ]
  },
  {
   "cell_type": "code",
   "execution_count": null,
   "metadata": {},
   "outputs": [],
   "source": [
    "mpl_10.pop(0)\n",
    "mpl_10.pop(10)\n",
    "mpl_10.pop(42)\n",
    "mpl_10.pop(42)\n",
    "mpl_10.pop(100)\n",
    "mpl_10.pop(117)\n",
    "mpl_10.pop(128)\n",
    "mpl_10.pop(128)\n",
    "mpl_10.pop(142)\n",
    "mpl_10.pop(148)\n",
    "mpl_10.pop(148)\n",
    "mpl_10.pop(171)\n",
    "mpl_10.pop(171)\n",
    "mpl_10.pop(171)\n",
    "mpl_10.pop(178)\n",
    "mpl_10.pop(181)\n",
    "mpl_10.pop(181)\n",
    "mpl_10.pop(305)\n",
    "mpl_10.pop(305)"
   ]
  },
  {
   "cell_type": "code",
   "execution_count": null,
   "metadata": {},
   "outputs": [],
   "source": [
    "ceil_10.pop(0)\n",
    "ceil_10.pop(10)\n",
    "ceil_10.pop(42)\n",
    "ceil_10.pop(42)\n",
    "ceil_10.pop(100)\n",
    "ceil_10.pop(117)\n",
    "ceil_10.pop(128)\n",
    "ceil_10.pop(128)\n",
    "ceil_10.pop(142)\n",
    "ceil_10.pop(148)\n",
    "ceil_10.pop(148)\n",
    "ceil_10.pop(171)\n",
    "ceil_10.pop(171)\n",
    "ceil_10.pop(171)\n",
    "ceil_10.pop(178)\n",
    "ceil_10.pop(181)\n",
    "ceil_10.pop(181)\n",
    "ceil_10.pop(305)\n",
    "ceil_10.pop(305)"
   ]
  },
  {
   "cell_type": "code",
   "execution_count": null,
   "metadata": {},
   "outputs": [],
   "source": [
    "%%time\n",
    "cbh_mpl_10 = []\n",
    "time_mpl_10 = []\n",
    "cbh_ceil_10 = []\n",
    "time_ceil_10 = []\n",
    "\n",
    "for mpl in mpl_10:\n",
    "    mpl_ds = act.io.armfiles.read_netcdf(mpl)\n",
    "    new_mpl = mpl_ds.resample(time='1min').interpolate('linear')\n",
    "#     time_mpl_10.append(new_mpl.time.copy().shape)\n",
    "    nmpl_cbh = np.ma.array(new_mpl.cloud_base.values.copy(), dtype=np.float32)\n",
    "    nmpl_time = np.ma.array(new_mpl.time.values.copy(), dtype=np.datetime64)\n",
    "    for i in range(len(nmpl_cbh)):\n",
    "        cbh_mpl_10.append(nmpl_cbh[i])\n",
    "        time_mpl_10.append(nmpl_time[i])\n",
    "\n",
    "for ceil in ceil_10:\n",
    "    ceil_ds = act.io.armfiles.read_netcdf(ceil)\n",
    "    new_ceil = ceil_ds.resample(time='1min').interpolate('linear')\n",
    "#     time_ceil_10.append(new_ceil.time.copy().shape)\n",
    "    nceil_cbh = np.ma.array(new_ceil.first_cbh.values.copy(), dtype=np.float32)\n",
    "    nceil_time = np.ma.array(new_ceil.time.values.copy(), dtype=np.datetime64)\n",
    "    for i in range(len(nceil_cbh)):\n",
    "        cbh_ceil_10.append(nceil_cbh[i])\n",
    "        time_ceil_10.append(nceil_time[i])"
   ]
  },
  {
   "cell_type": "code",
   "execution_count": null,
   "metadata": {},
   "outputs": [],
   "source": [
    "mm_10 = np.ma.array(cbh_mpl_10, dtype=np.float32)\n",
    "cc_10 = np.ma.array(cbh_ceil_10, dtype=np.float32)\n",
    "tm_10 = np.ma.array(time_mpl_10, dtype=np.datetime64)\n",
    "tc_10 = np.ma.array(time_ceil_10, dtype=np.datetime64)\n",
    "\n",
    "mcbh_10 = mm_10[np.ma.where((cc_10 >= 500.) & (cc_10 <= 7620.))[0]]\n",
    "ccbh_10 = cc_10[np.ma.where((cc_10 >= 500.) & (cc_10 <= 7620.))[0]]\n",
    "mtime_10 = tm_10[np.ma.where((cc_10 >= 500.) & (cc_10 <= 7620.))[0]]\n",
    "ctime_10 = tc_10[np.ma.where((cc_10 >= 500.) & (cc_10 <= 7620.))[0]]\n",
    "\n",
    "a_10 = ccbh_10[np.ma.where((mcbh_10 >= .5) & (mcbh_10 <= 7.620))[0]]\n",
    "b_10 = mcbh_10[np.ma.where((mcbh_10 >= .5) & (mcbh_10 <= 7.620))[0]]\n",
    "c_10 = ctime_10[np.ma.where((mcbh_10 >= .5) & (mcbh_10 <= 7.620))[0]]\n",
    "d_10 = mtime_10[np.ma.where((mcbh_10 >= .5) & (mcbh_10 <= 7.620))[0]]"
   ]
  },
  {
   "cell_type": "code",
   "execution_count": null,
   "metadata": {},
   "outputs": [],
   "source": [
    "print(a_10.min())\n",
    "print(a_10.max())\n",
    "print(b_10.min()*1000)\n",
    "print(b_10.max()*1000)"
   ]
  },
  {
   "cell_type": "code",
   "execution_count": null,
   "metadata": {},
   "outputs": [],
   "source": [
    "print(mcbh_10.shape)\n",
    "print(ccbh_10.shape)\n",
    "print(mtime_10.shape)\n",
    "print(ctime_10.shape)\n",
    "print(a_10.shape)\n",
    "print(b_10.shape)\n",
    "print(c_10.shape)\n",
    "print(d_10.shape)"
   ]
  },
  {
   "cell_type": "code",
   "execution_count": null,
   "metadata": {},
   "outputs": [],
   "source": [
    "f = (a_10/1000 - b_10)"
   ]
  },
  {
   "cell_type": "code",
   "execution_count": null,
   "metadata": {},
   "outputs": [],
   "source": [
    "fig = plt.figure(figsize=[50,12])\n",
    "p1 = plt.scatter(c_10, f)\n",
    "#plt.xlim('20090501', '20090601')\n",
    "plt.xticks(fontsize=25)\n",
    "plt.yticks(fontsize=25)\n",
    "plt.title('2010 Ceil MPL Height Difference vs Time', fontsize=30)\n",
    "plt.xlabel('TIME (UTC)', fontsize=25)\n",
    "plt.ylabel('HEIGHT (m)', fontsize=25)\n",
    "#plt.ylim(4000, 7262)\n",
    "#plt.savefig('/home/jhemedinger/dev_act/act-analyses/ceil_mpl_hght_diff_200905.png')\n",
    "plt.show()\n",
    "plt.close()"
   ]
  },
  {
   "cell_type": "code",
   "execution_count": null,
   "metadata": {},
   "outputs": [],
   "source": [
    "print(f.mean()*1000)\n",
    "print(f.std()*1000)"
   ]
  },
  {
   "cell_type": "code",
   "execution_count": null,
   "metadata": {},
   "outputs": [],
   "source": [
    "fig = plt.figure(figsize=[25,25])\n",
    "plt.scatter(a_10/1000, b_10)\n",
    "plt.plot(range(0,25), range(0,25), 'k', label='1:1')\n",
    "plt.plot(np.unique(a_10/1000), np.poly1d(np.polyfit(a_10/1000, b_10, 1))(np.unique(a_10/1000)), 'k--', label='Best Fit Line')\n",
    "plt.plot(0, 0, 'w', label= ('Mean Difference: ' + '%6.4f km' %(f.mean())))\n",
    "plt.plot(0, 0, 'w', label= ('STDEV Difference: ' + '%6.4f km' %(f.std())))\n",
    "plt.xlim(.5, 8)\n",
    "plt.ylim(.5, 8)\n",
    "plt.xticks(np.arange(0,8), fontsize=25)\n",
    "plt.yticks(range(0,8), fontsize=25)\n",
    "plt.ylabel('MPL Heights (km)', fontsize=30)\n",
    "plt.xlabel('CEIL Heights (km)', fontsize=30)\n",
    "plt.title('2010 Ceil vs. MPL Heights', fontsize=30)\n",
    "plt.legend(loc=4, labelspacing=1, ncol=4, fontsize=18)\n",
    "plt.savefig('/home/jhemedinger/dev_act/act-analyses/ceil_v_mpl_hghts_2010.png')\n",
    "plt.show()\n",
    "plt.close()"
   ]
  },
  {
   "cell_type": "code",
   "execution_count": null,
   "metadata": {},
   "outputs": [],
   "source": [
    "norm = mpl.colors.LogNorm()"
   ]
  },
  {
   "cell_type": "code",
   "execution_count": null,
   "metadata": {},
   "outputs": [],
   "source": [
    "xedges = np.arange(.5, 7.620, 0.25)\n",
    "yedges = np.arange(.5, 7.620, 0.25)"
   ]
  },
  {
   "cell_type": "code",
   "execution_count": null,
   "metadata": {},
   "outputs": [],
   "source": [
    "fig = plt.figure(figsize=[25,25])\n",
    "plt.hist2d(a_10/1000, b_10, bins=(xedges, yedges),\n",
    "           cmap=pyart.graph.cm_colorblind.HomeyerRainbow,\n",
    "           norm=norm)\n",
    "plt.plot(range(0,25), range(0,25), 'k', label='1:1')\n",
    "plt.plot(np.unique(a_10/1000), np.poly1d(np.polyfit(a_10/1000, b_10, 1))(np.unique(a_10/1000)), 'k--', label='Best Fit Line')\n",
    "plt.plot(0, 0, 'w', label= ('Mean Difference: ' + '%6.4f km' %(f.mean())))\n",
    "plt.plot(0, 0, 'w', label= ('STDEV Difference: ' + '%6.4f km' %(f.std())))\n",
    "plt.xlim(.5, 8)\n",
    "plt.ylim(.5, 8)\n",
    "plt.xticks(np.arange(0,8), fontsize=25)\n",
    "plt.yticks(range(0,8), fontsize=25)\n",
    "plt.ylabel('MPL Heights (km)', fontsize=30)\n",
    "plt.xlabel('CEIL Heights (km)', fontsize=30)\n",
    "plt.title('2010 Ceil vs. MPL Heights', fontsize=30)\n",
    "plt.legend(loc=4, labelspacing=1, ncol=4, fontsize=18)\n",
    "cb = plt.colorbar()\n",
    "cb.ax.tick_params(labelsize=25)\n",
    "plt.savefig('/home/jhemedinger/dev_act/act-analyses/images/ceil_v_mpl_hghts_2d_2010.png')\n",
    "plt.show()\n",
    "plt.close()"
   ]
  }
 ],
 "metadata": {
  "kernelspec": {
   "display_name": "Python 3",
   "language": "python",
   "name": "python3"
  },
  "language_info": {
   "codemirror_mode": {
    "name": "ipython",
    "version": 3
   },
   "file_extension": ".py",
   "mimetype": "text/x-python",
   "name": "python",
   "nbconvert_exporter": "python",
   "pygments_lexer": "ipython3",
   "version": "3.7.3"
  }
 },
 "nbformat": 4,
 "nbformat_minor": 2
}
