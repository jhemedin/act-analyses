{
 "cells": [
  {
   "cell_type": "code",
   "execution_count": null,
   "metadata": {},
   "outputs": [],
   "source": [
    "import warnings\n",
    "warnings.filterwarnings('ignore')\n",
    "import numpy as np\n",
    "import matplotlib.pyplot as plt\n",
    "import act\n",
    "import glob\n",
    "import matplotlib as mpl\n",
    "import pyart"
   ]
  },
  {
   "cell_type": "code",
   "execution_count": null,
   "metadata": {},
   "outputs": [],
   "source": [
    "mpl_09 = glob.glob('/home/jhemedinger/dev_act/act-analyses/data/sgp30smplcmask1zwangC1.c1/sgp30smplcmask1zwangC1.c1.2009*')\n",
    "ceil_09 = glob.glob('/home/jhemedinger/dev_act/act-analyses/data/sgpceilC1.b1/sgpceilC1.b1.2009*')\n",
    "mpl_09.sort()\n",
    "ceil_09.sort()"
   ]
  },
  {
   "cell_type": "code",
   "execution_count": null,
   "metadata": {},
   "outputs": [],
   "source": [
    "mpl_09.pop(26)\n",
    "mpl_09.pop(111)\n",
    "mpl_09.pop(123)\n",
    "mpl_09.pop(123)\n",
    "mpl_09.pop(171)\n",
    "mpl_09.pop(175)\n",
    "mpl_09.pop(175)\n",
    "mpl_09.pop(188)\n",
    "mpl_09.pop(210)\n",
    "mpl_09.pop(210)\n",
    "mpl_09.pop(240)\n",
    "mpl_09.pop(240)\n",
    "mpl_09.pop(294)\n",
    "mpl_09.pop(294)\n",
    "mpl_09.pop(308)\n",
    "mpl_09.pop(309)\n",
    "mpl_09.pop(309)"
   ]
  },
  {
   "cell_type": "code",
   "execution_count": null,
   "metadata": {},
   "outputs": [],
   "source": [
    "ceil_09.pop(26)\n",
    "ceil_09.pop(111)\n",
    "ceil_09.pop(123)\n",
    "ceil_09.pop(123)\n",
    "ceil_09.pop(171)\n",
    "ceil_09.pop(175)\n",
    "ceil_09.pop(175)\n",
    "ceil_09.pop(188)\n",
    "ceil_09.pop(210)\n",
    "ceil_09.pop(210)\n",
    "ceil_09.pop(240)\n",
    "ceil_09.pop(240)\n",
    "ceil_09.pop(294)\n",
    "ceil_09.pop(294)\n",
    "ceil_09.pop(308)\n",
    "ceil_09.pop(309)\n",
    "ceil_09.pop(309)"
   ]
  },
  {
   "cell_type": "code",
   "execution_count": null,
   "metadata": {},
   "outputs": [],
   "source": [
    "%%time\n",
    "cbh_mpl_09 = []\n",
    "time_mpl_09 = []\n",
    "cbh_ceil_09 = []\n",
    "time_ceil_09 = []\n",
    "\n",
    "for mpl in mpl_09:\n",
    "    mpl_ds = act.io.armfiles.read_netcdf(mpl)\n",
    "    new_mpl = mpl_ds.resample(time='1min').interpolate('linear')\n",
    "#     time_mpl_09.append(new_mpl.time.copy().shape)\n",
    "    nmpl_cbh = np.ma.array(new_mpl.cloud_base.values.copy(), dtype=np.float32)\n",
    "    nmpl_time = np.ma.array(new_mpl.time.values.copy(), dtype=np.datetime64)\n",
    "    for i in range(len(nmpl_cbh)):\n",
    "        cbh_mpl_09.append(nmpl_cbh[i])\n",
    "        time_mpl_09.append(nmpl_time[i])\n",
    "\n",
    "for ceil in ceil_09:\n",
    "    ceil_ds = act.io.armfiles.read_netcdf(ceil)\n",
    "    new_ceil = ceil_ds.resample(time='1min').interpolate('linear')\n",
    "#     time_ceil_09.append(new_ceil.time.copy().shape)\n",
    "    nceil_cbh = np.ma.array(new_ceil.first_cbh.values.copy(), dtype=np.float32)\n",
    "    nceil_time = np.ma.array(new_ceil.time.values.copy(), dtype=np.datetime64)\n",
    "    for i in range(len(nceil_cbh)):\n",
    "        cbh_ceil_09.append(nceil_cbh[i])\n",
    "        time_ceil_09.append(nceil_time[i])"
   ]
  },
  {
   "cell_type": "code",
   "execution_count": null,
   "metadata": {},
   "outputs": [],
   "source": [
    "mm_09 = np.ma.array(cbh_mpl_09, dtype=np.float32)\n",
    "cc_09 = np.ma.array(cbh_ceil_09, dtype=np.float32)\n",
    "tm_09 = np.ma.array(time_mpl_09, dtype=np.datetime64)\n",
    "tc_09 = np.ma.array(time_ceil_09, dtype=np.datetime64)\n",
    "\n",
    "mcbh_09 = mm_09[np.ma.where((cc_09 >= 500.) & (cc_09 <= 7620.))[0]]\n",
    "ccbh_09 = cc_09[np.ma.where((cc_09 >= 500.) & (cc_09 <= 7620.))[0]]\n",
    "mtime_09 = tm_09[np.ma.where((cc_09 >= 500.) & (cc_09 <= 7620.))[0]]\n",
    "ctime_09 = tc_09[np.ma.where((cc_09 >= 500.) & (cc_09 <= 7620.))[0]]\n",
    "\n",
    "a_09 = ccbh_09[np.ma.where((mcbh_09 >= .5) & (mcbh_09 <= 7.620))[0]]\n",
    "b_09 = mcbh_09[np.ma.where((mcbh_09 >= .5) & (mcbh_09 <= 7.620))[0]]\n",
    "c_09 = ctime_09[np.ma.where((mcbh_09 >= .5) & (mcbh_09 <= 7.620))[0]]\n",
    "d_09 = mtime_09[np.ma.where((mcbh_09 >= .5) & (mcbh_09 <= 7.620))[0]]"
   ]
  },
  {
   "cell_type": "code",
   "execution_count": null,
   "metadata": {},
   "outputs": [],
   "source": [
    "print(a_09.min())\n",
    "print(a_09.max())\n",
    "print(b_09.min()*1000)\n",
    "print(b_09.max()*1000)"
   ]
  },
  {
   "cell_type": "code",
   "execution_count": null,
   "metadata": {},
   "outputs": [],
   "source": [
    "print(mcbh_09.shape)\n",
    "print(ccbh_09.shape)\n",
    "print(mtime_09.shape)\n",
    "print(ctime_09.shape)\n",
    "print(a_09.shape)\n",
    "print(b_09.shape)\n",
    "print(c_09.shape)\n",
    "print(d_09.shape)"
   ]
  },
  {
   "cell_type": "code",
   "execution_count": null,
   "metadata": {},
   "outputs": [],
   "source": [
    "f = (a_09/1000 - b_09)"
   ]
  },
  {
   "cell_type": "code",
   "execution_count": null,
   "metadata": {},
   "outputs": [],
   "source": [
    "fig = plt.figure(figsize=[50,12])\n",
    "p1 = plt.scatter(c_09, f)\n",
    "#plt.xlim('20090501', '20090601')\n",
    "plt.xticks(fontsize=25)\n",
    "plt.yticks(fontsize=25)\n",
    "plt.title('May 2009 Ceil MPL Height Difference vs Time', fontsize=30)\n",
    "plt.xlabel('TIME (UTC)', fontsize=25)\n",
    "plt.ylabel('HEIGHT (m)', fontsize=25)\n",
    "#plt.ylim(4000, 7262)\n",
    "#plt.savefig('/home/jhemedinger/dev_act/act-analyses/ceil_mpl_hght_diff_200905.png')\n",
    "plt.show()\n",
    "plt.close()"
   ]
  },
  {
   "cell_type": "code",
   "execution_count": null,
   "metadata": {},
   "outputs": [],
   "source": [
    "print(f.mean()*1000)\n",
    "print(f.std()*1000)"
   ]
  },
  {
   "cell_type": "code",
   "execution_count": null,
   "metadata": {},
   "outputs": [],
   "source": [
    "fig = plt.figure(figsize=[25,25])\n",
    "plt.scatter(a_09/1000, b_09)\n",
    "plt.plot(range(0,25), range(0,25), 'k', label='1:1')\n",
    "plt.plot(np.unique(a_09/1000), np.poly1d(np.polyfit(a_09/1000, b_09, 1))(np.unique(a_09/1000)), 'k--', label='Best Fit Line')\n",
    "plt.plot(0, 0, 'w', label= ('Mean Difference: ' + '%6.4f km' %(f.mean())))\n",
    "plt.plot(0, 0, 'w', label= ('STDEV Difference: ' + '%6.4f km' %(f.std())))\n",
    "plt.xlim(.5, 8)\n",
    "plt.ylim(.5, 8)\n",
    "plt.xticks(np.arange(0,8), fontsize=25)\n",
    "plt.yticks(range(0,8), fontsize=25)\n",
    "plt.ylabel('MPL Heights (km)', fontsize=30)\n",
    "plt.xlabel('CEIL Heights (km)', fontsize=30)\n",
    "plt.title('2009 Ceil vs. MPL Heights', fontsize=30)\n",
    "plt.legend(loc=4, labelspacing=1, ncol=4, fontsize=18)\n",
    "plt.savefig('/home/jhemedinger/dev_act/act-analyses/ceil_v_mpl_hghts_2009.png')\n",
    "plt.show()\n",
    "plt.close()"
   ]
  },
  {
   "cell_type": "code",
   "execution_count": null,
   "metadata": {},
   "outputs": [],
   "source": [
    "norm = mpl.colors.LogNorm()"
   ]
  },
  {
   "cell_type": "code",
   "execution_count": null,
   "metadata": {},
   "outputs": [],
   "source": [
    "xedges = np.arange(.5, 7.620, 0.25)\n",
    "yedges = np.arange(.5, 7.620, 0.25)"
   ]
  },
  {
   "cell_type": "code",
   "execution_count": null,
   "metadata": {},
   "outputs": [],
   "source": [
    "fig = plt.figure(figsize=[25,25])\n",
    "plt.hist2d(a_09/1000, b_09, bins=(xedges, yedges),\n",
    "           cmap=pyart.graph.cm_colorblind.HomeyerRainbow,\n",
    "           norm=norm)\n",
    "plt.plot(range(0,25), range(0,25), 'k', label='1:1')\n",
    "plt.plot(np.unique(a_09/1000), np.poly1d(np.polyfit(a_09/1000, b_09, 1))(np.unique(a_09/1000)), 'k--', label='Best Fit Line')\n",
    "plt.plot(0, 0, 'w', label= ('Mean Difference: ' + '%6.4f km' %(f.mean())))\n",
    "plt.plot(0, 0, 'w', label= ('STDEV Difference: ' + '%6.4f km' %(f.std())))\n",
    "plt.xlim(.5, 8)\n",
    "plt.ylim(.5, 8)\n",
    "plt.xticks(np.arange(0,8), fontsize=25)\n",
    "plt.yticks(range(0,8), fontsize=25)\n",
    "plt.ylabel('MPL Heights (km)', fontsize=30)\n",
    "plt.xlabel('CEIL Heights (km)', fontsize=30)\n",
    "plt.title('2009 Ceil vs. MPL Heights', fontsize=30)\n",
    "plt.legend(loc=4, labelspacing=1, ncol=4, fontsize=18)\n",
    "cb = plt.colorbar()\n",
    "cb.ax.tick_params(labelsize=25)\n",
    "plt.savefig('/home/jhemedinger/dev_act/act-analyses/images/ceil_v_mpl_hghts_2d_2009.png')\n",
    "plt.show()\n",
    "plt.close()"
   ]
  }
 ],
 "metadata": {
  "kernelspec": {
   "display_name": "Python 3",
   "language": "python",
   "name": "python3"
  },
  "language_info": {
   "codemirror_mode": {
    "name": "ipython",
    "version": 3
   },
   "file_extension": ".py",
   "mimetype": "text/x-python",
   "name": "python",
   "nbconvert_exporter": "python",
   "pygments_lexer": "ipython3",
   "version": "3.7.3"
  }
 },
 "nbformat": 4,
 "nbformat_minor": 2
}
